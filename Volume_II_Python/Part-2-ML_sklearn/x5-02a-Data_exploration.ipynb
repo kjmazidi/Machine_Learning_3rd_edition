{
 "cells": [
  {
   "cell_type": "markdown",
   "metadata": {},
   "source": [
    "[![Open in Colab](https://colab.research.google.com/assets/colab-badge.svg)](https://colab.research.google.com/github/kjmazidi/Machine_Learning_3rd_edition/blob/master/Volume_II_Python/Part-2-ML_sklearn/5-02-Linear_regression.ipynb)"
   ]
  },
  {
   "cell_type": "markdown",
   "metadata": {},
   "source": [
    "# Data cleaning\n",
    "## Vehicle data\n",
    "\n",
    "This notebook cleans a used car data set provided by [Austin Reese](https://github.com/AustinReese) \n",
    "\n",
    "The data was downloaded from Kaggle on 4/287/2025 from this link: https://www.kaggle.com/datasets/austinreese/craigslist-carstrucks-data\n",
    "\n",
    "The data set is available in the data folder, renamed as *vehicles.csv*\n",
    "\n",
    "This notebook will do some data cleaning so that a smaller data set can be used in other notebooks. \n",
    "\n",
    "\n",
    "### Code Accompanying ***The Machine Learning Handbooks***, Volume II, Chapter 5\n",
    "\n",
    "#### Book pdf is available on the GitHub repo: <https://github.com/kjmazidi/Machine_Learning_3rd_edition>\n",
    "\n",
    "###### (c) 2025 KJG Mazidi, all rights reserved"
   ]
  },
  {
   "cell_type": "code",
   "execution_count": null,
   "metadata": {},
   "outputs": [],
   "source": [
    "# imports used in this notebook\n",
    "\n",
    "import numpy as np\n",
    "import pandas as pd\n",
    "import seaborn as sb"
   ]
  },
  {
   "cell_type": "markdown",
   "metadata": {},
   "source": [
    "### Data description\n",
    "\n",
    "The dataset contains a little over 425K rows and 26 columns. We will read in the colums below. Columns that are not useful for regression can be deleted later. \n",
    "\n",
    "* price (in US dollars)\n",
    "* year\n",
    "* manufacturer\n",
    "* model\n",
    "* condition\n",
    "* cylinders\n",
    "* fuel type\n",
    "* odometer\n",
    "* title status\n",
    "* transmission\n",
    "* type\n",
    "* paint_color\n",
    "* state"
   ]
  },
  {
   "cell_type": "code",
   "execution_count": 2,
   "metadata": {},
   "outputs": [
    {
     "data": {
      "text/plain": [
       "(426880, 13)"
      ]
     },
     "execution_count": 2,
     "metadata": {},
     "output_type": "execute_result"
    }
   ],
   "source": [
    "### load the data using pandas\n",
    "\n",
    "df = pd.read_csv('data/vehicles.csv', usecols=['price', 'year', 'manufacturer', 'model',\n",
    "                                               'condition', 'cylinders', 'fuel', 'odometer',\n",
    "                                               'title_status', 'transmission', 'type', 'paint_color', 'state'])\n",
    "\n",
    "df.shape"
   ]
  },
  {
   "cell_type": "markdown",
   "metadata": {},
   "source": [
    "## Data cleaning\n",
    "\n",
    "Since the data set is quite large, we can drop rows with missing values and still have over 130K rows, a good size data set. \n"
   ]
  },
  {
   "cell_type": "code",
   "execution_count": 3,
   "metadata": {},
   "outputs": [
    {
     "data": {
      "text/plain": [
       "(130533, 13)"
      ]
     },
     "execution_count": 3,
     "metadata": {},
     "output_type": "execute_result"
    }
   ],
   "source": [
    "# delete incomplete rows\n",
    "\n",
    "df = df.dropna()\n",
    "df.shape"
   ]
  },
  {
   "cell_type": "code",
   "execution_count": 4,
   "metadata": {},
   "outputs": [
    {
     "data": {
      "text/plain": [
       "price             int64\n",
       "year            float64\n",
       "manufacturer     object\n",
       "model            object\n",
       "condition        object\n",
       "cylinders        object\n",
       "fuel             object\n",
       "odometer        float64\n",
       "title_status     object\n",
       "transmission     object\n",
       "type             object\n",
       "paint_color      object\n",
       "state            object\n",
       "dtype: object"
      ]
     },
     "execution_count": 4,
     "metadata": {},
     "output_type": "execute_result"
    }
   ],
   "source": [
    "# check the data types\n",
    "\n",
    "df.dtypes"
   ]
  },
  {
   "cell_type": "markdown",
   "metadata": {},
   "source": [
    "The *object* data types were strings that were read in. We will convert them to categorical data. \n",
    "\n",
    "The price is an integer, which is good. \n",
    "\n",
    "The year and odometer are floats, which we will change to integer. "
   ]
  },
  {
   "cell_type": "code",
   "execution_count": 5,
   "metadata": {},
   "outputs": [
    {
     "name": "stdout",
     "output_type": "stream",
     "text": [
      "<class 'pandas.core.frame.DataFrame'>\n",
      "Index: 130533 entries, 27 to 426878\n",
      "Data columns (total 13 columns):\n",
      " #   Column        Non-Null Count   Dtype   \n",
      "---  ------        --------------   -----   \n",
      " 0   price         130533 non-null  int64   \n",
      " 1   year          130533 non-null  int64   \n",
      " 2   manufacturer  130533 non-null  category\n",
      " 3   model         130533 non-null  category\n",
      " 4   condition     130533 non-null  category\n",
      " 5   cylinders     130533 non-null  category\n",
      " 6   fuel          130533 non-null  category\n",
      " 7   odometer      130533 non-null  int64   \n",
      " 8   title_status  130533 non-null  category\n",
      " 9   transmission  130533 non-null  category\n",
      " 10  type          130533 non-null  category\n",
      " 11  paint_color   130533 non-null  category\n",
      " 12  state         130533 non-null  category\n",
      "dtypes: category(10), int64(3)\n",
      "memory usage: 5.7 MB\n"
     ]
    }
   ],
   "source": [
    "# change select column types\n",
    "\n",
    "df = df.astype({'year': 'int', 'odometer': 'int',\n",
    "                'manufacturer': 'category', 'model': 'category', 'condition': 'category', 'cylinders': 'category',\n",
    "                'fuel': 'category', 'title_status': 'category', 'transmission': 'category', 'type': 'category',\n",
    "                'paint_color': 'category', 'state': 'category'\n",
    "                })\n",
    "\n",
    "df.info()\n",
    "\n"
   ]
  },
  {
   "cell_type": "markdown",
   "metadata": {},
   "source": [
    "Let's explore some of the categories to see what further modifications we want to do to the data. "
   ]
  },
  {
   "cell_type": "code",
   "execution_count": 6,
   "metadata": {},
   "outputs": [
    {
     "data": {
      "text/plain": [
       "manufacturer\n",
       "ford               22560\n",
       "chevrolet          19696\n",
       "toyota             11311\n",
       "honda               7347\n",
       "nissan              6723\n",
       "gmc                 6108\n",
       "jeep                5936\n",
       "ram                 5052\n",
       "dodge               4630\n",
       "bmw                 3638\n",
       "mercedes-benz       3445\n",
       "subaru              2907\n",
       "hyundai             2794\n",
       "volkswagen          2735\n",
       "lexus               2593\n",
       "kia                 2194\n",
       "chrysler            2184\n",
       "audi                2167\n",
       "cadillac            1986\n",
       "infiniti            1962\n",
       "acura               1930\n",
       "buick               1808\n",
       "mazda               1445\n",
       "lincoln             1419\n",
       "pontiac              960\n",
       "mitsubishi           915\n",
       "volvo                873\n",
       "mini                 555\n",
       "mercury              520\n",
       "rover                449\n",
       "saturn               445\n",
       "jaguar               443\n",
       "porsche              432\n",
       "fiat                 179\n",
       "tesla                 47\n",
       "alfa-romeo            46\n",
       "harley-davidson       36\n",
       "ferrari               26\n",
       "datsun                24\n",
       "land rover             8\n",
       "aston-martin           5\n",
       "Name: count, dtype: int64"
      ]
     },
     "execution_count": 6,
     "metadata": {},
     "output_type": "execute_result"
    }
   ],
   "source": [
    "# explore manufacturer\n",
    "\n",
    "df['manufacturer'].value_counts()\n"
   ]
  },
  {
   "cell_type": "markdown",
   "metadata": {},
   "source": [
    "We see that there are more rare car manufacturers such as aston-martin, with only 5 observations in the data.\n",
    "\n",
    "The problem with having only a few observations in a category is that it makes it hard for the algorithm to learn about that category. We will restrict the categories to only those with over 1000 observations. "
   ]
  },
  {
   "cell_type": "code",
   "execution_count": 7,
   "metadata": {},
   "outputs": [
    {
     "data": {
      "text/plain": [
       "['ford',\n",
       " 'chevrolet',\n",
       " 'toyota',\n",
       " 'honda',\n",
       " 'nissan',\n",
       " 'gmc',\n",
       " 'jeep',\n",
       " 'ram',\n",
       " 'dodge',\n",
       " 'bmw',\n",
       " 'mercedes-benz',\n",
       " 'subaru',\n",
       " 'hyundai',\n",
       " 'volkswagen',\n",
       " 'lexus',\n",
       " 'kia',\n",
       " 'chrysler',\n",
       " 'audi',\n",
       " 'cadillac',\n",
       " 'infiniti',\n",
       " 'acura',\n",
       " 'buick',\n",
       " 'mazda',\n",
       " 'lincoln']"
      ]
     },
     "execution_count": 7,
     "metadata": {},
     "output_type": "execute_result"
    }
   ],
   "source": [
    "manufacturer_list = df['manufacturer'].value_counts()\n",
    "keepers = [x for x in manufacturer_list.keys() if manufacturer_list[x] > 1000]\n",
    "keepers"
   ]
  },
  {
   "cell_type": "code",
   "execution_count": 8,
   "metadata": {},
   "outputs": [
    {
     "data": {
      "text/plain": [
       "(124570, 13)"
      ]
     },
     "execution_count": 8,
     "metadata": {},
     "output_type": "execute_result"
    }
   ],
   "source": [
    "# subset df to keepers\n",
    "\n",
    "df = df.loc[df['manufacturer'].isin(keepers)]\n",
    "df.shape"
   ]
  },
  {
   "cell_type": "code",
   "execution_count": 9,
   "metadata": {},
   "outputs": [
    {
     "data": {
      "text/plain": [
       "condition\n",
       "good         55105\n",
       "excellent    52205\n",
       "like new     12706\n",
       "fair          3620\n",
       "new            623\n",
       "salvage        311\n",
       "Name: count, dtype: int64"
      ]
     },
     "execution_count": 9,
     "metadata": {},
     "output_type": "execute_result"
    }
   ],
   "source": [
    "# explore condition\n",
    "# just 6 categories\n",
    "\n",
    "df['condition'].value_counts()\n"
   ]
  },
  {
   "cell_type": "code",
   "execution_count": 10,
   "metadata": {},
   "outputs": [
    {
     "data": {
      "text/plain": [
       "title_status\n",
       "clean         118378\n",
       "rebuilt         3605\n",
       "salvage         1471\n",
       "lien             868\n",
       "missing          191\n",
       "parts only        57\n",
       "Name: count, dtype: int64"
      ]
     },
     "execution_count": 10,
     "metadata": {},
     "output_type": "execute_result"
    }
   ],
   "source": [
    "# explore title_status\n",
    "\n",
    "df['title_status'].value_counts()"
   ]
  },
  {
   "cell_type": "code",
   "execution_count": 11,
   "metadata": {},
   "outputs": [
    {
     "data": {
      "text/plain": [
       "paint_color\n",
       "white     31217\n",
       "black     24608\n",
       "silver    18265\n",
       "red       13212\n",
       "blue      13126\n",
       "grey      12700\n",
       "brown      3611\n",
       "green      3438\n",
       "custom     2497\n",
       "yellow      910\n",
       "orange      649\n",
       "purple      337\n",
       "Name: count, dtype: int64"
      ]
     },
     "execution_count": 11,
     "metadata": {},
     "output_type": "execute_result"
    }
   ],
   "source": [
    "# explore paint_color\n",
    "\n",
    "df['paint_color'].value_counts()"
   ]
  },
  {
   "cell_type": "markdown",
   "metadata": {},
   "source": [
    "Based on the counts above, we could limit paint color to the top 6 colors, and change the rest to 'other'. \n",
    "We will leave in the column and decide this later. "
   ]
  },
  {
   "cell_type": "code",
   "execution_count": 12,
   "metadata": {},
   "outputs": [
    {
     "data": {
      "text/plain": [
       "type\n",
       "sedan          32087\n",
       "SUV            28391\n",
       "pickup         17286\n",
       "truck          15821\n",
       "coupe           8269\n",
       "other           5634\n",
       "hatchback       4131\n",
       "van             3653\n",
       "convertible     2977\n",
       "wagon           2850\n",
       "mini-van        2819\n",
       "offroad          471\n",
       "bus              181\n",
       "Name: count, dtype: int64"
      ]
     },
     "execution_count": 12,
     "metadata": {},
     "output_type": "execute_result"
    }
   ],
   "source": [
    "# explore type\n",
    "\n",
    "df['type'].value_counts()"
   ]
  },
  {
   "cell_type": "markdown",
   "metadata": {},
   "source": [
    "Based on these value counts, we will limit the vehicle type to sedan, SUV, pickup, and truck. "
   ]
  },
  {
   "cell_type": "code",
   "execution_count": 13,
   "metadata": {},
   "outputs": [
    {
     "data": {
      "text/plain": [
       "(93585, 13)"
      ]
     },
     "execution_count": 13,
     "metadata": {},
     "output_type": "execute_result"
    }
   ],
   "source": [
    "# subset the data to just clean titles, then delete title_status\n",
    "\n",
    "keepers = ['sedan', 'SUV', 'pickup', 'truck']\n",
    "\n",
    "df = df.loc[df['type'].isin(keepers)]\n",
    "df.shape"
   ]
  },
  {
   "cell_type": "code",
   "execution_count": 14,
   "metadata": {},
   "outputs": [
    {
     "data": {
      "text/plain": [
       "(88834, 12)"
      ]
     },
     "execution_count": 14,
     "metadata": {},
     "output_type": "execute_result"
    }
   ],
   "source": [
    "# subset the data to just clean titles, then delete title_status\n",
    "\n",
    "df = df.loc[df['title_status'] == 'clean']\n",
    "df = df.drop('title_status', axis=1)  # 1 for col, 0 for row\n",
    "df.shape"
   ]
  },
  {
   "cell_type": "markdown",
   "metadata": {},
   "source": [
    "### Data Exploration\n",
    "\n",
    "Let's visualize the data. "
   ]
  },
  {
   "cell_type": "code",
   "execution_count": 16,
   "metadata": {},
   "outputs": [
    {
     "data": {
      "text/plain": [
       "<seaborn.axisgrid.FacetGrid at 0x14ab47f40>"
      ]
     },
     "execution_count": 16,
     "metadata": {},
     "output_type": "execute_result"
    },
    {
     "data": {
      "image/png": "[encoded data removed]",
      "text/plain": [
       "<Figure size 500x500 with 1 Axes>"
      ]
     },
     "metadata": {},
     "output_type": "display_data"
    }
   ],
   "source": [
    "sb.relplot(x='year', y='price', data=df)"
   ]
  },
  {
   "cell_type": "markdown",
   "metadata": {},
   "source": [
    "Well, that's ugly. Let's see what is going on."
   ]
  },
  {
   "cell_type": "code",
   "execution_count": 17,
   "metadata": {},
   "outputs": [
    {
     "name": "stdout",
     "output_type": "stream",
     "text": [
      "min and max 0 3736928711\n",
      "5995.0 11995.0 24990.0\n"
     ]
    }
   ],
   "source": [
    "print(\"min and max\", min(df.price), max(df.price))\n",
    "\n",
    "Q1 = df.price.quantile(0.25)\n",
    "Q2 = df.price.quantile(0.5)\n",
    "Q3 = df.price.quantile(0.75)\n",
    "print(Q1, Q2, Q3)\n"
   ]
  },
  {
   "cell_type": "markdown",
   "metadata": {},
   "source": [
    "This is why we do data exploration. There are car prices of 0 and as high as 37 billion???\n",
    "\n",
    "Looking at the data, the 37B was for a 2007 Toyota Tundra with 164K miles. Either the owner really loves that car or this is a data entry problem. \n",
    "\n",
    "We will subset the data down to reasonable prices. "
   ]
  },
  {
   "cell_type": "code",
   "execution_count": 18,
   "metadata": {},
   "outputs": [
    {
     "data": {
      "text/plain": [
       "(44740, 12)"
      ]
     },
     "execution_count": 18,
     "metadata": {},
     "output_type": "execute_result"
    }
   ],
   "source": [
    "# subset the data to the middle quartile prices\n",
    "\n",
    "df = df.loc[df['price'] >= Q1]\n",
    "df = df.loc[df['price'] <= Q3]\n",
    "df.shape"
   ]
  },
  {
   "cell_type": "markdown",
   "metadata": {},
   "source": [
    "With 44K dots to plot, graphs may be difficult to read. Let's sample."
   ]
  },
  {
   "cell_type": "code",
   "execution_count": 19,
   "metadata": {},
   "outputs": [],
   "source": [
    "df_sample = df.sample(n=1000)"
   ]
  },
  {
   "cell_type": "code",
   "execution_count": 20,
   "metadata": {},
   "outputs": [
    {
     "data": {
      "text/plain": [
       "<seaborn.axisgrid.FacetGrid at 0x14acfbd90>"
      ]
     },
     "execution_count": 20,
     "metadata": {},
     "output_type": "execute_result"
    },
    {
     "data": {
      "image/png": "[encoded data removed]",
      "text/plain": [
       "<Figure size 500x500 with 1 Axes>"
      ]
     },
     "metadata": {},
     "output_type": "display_data"
    }
   ],
   "source": [
    "sb.relplot(x='year', y='price', data=df_sample)"
   ]
  },
  {
   "cell_type": "code",
   "execution_count": 21,
   "metadata": {},
   "outputs": [
    {
     "data": {
      "text/plain": [
       "<seaborn.axisgrid.FacetGrid at 0x14ad87850>"
      ]
     },
     "execution_count": 21,
     "metadata": {},
     "output_type": "execute_result"
    },
    {
     "data": {
      "image/png": "[encoded data removed]",
      "text/plain": [
       "<Figure size 500x500 with 1 Axes>"
      ]
     },
     "metadata": {},
     "output_type": "display_data"
    }
   ],
   "source": [
    "sb.relplot(x='odometer', y='price', data=df_sample)"
   ]
  },
  {
   "cell_type": "code",
   "execution_count": 22,
   "metadata": {},
   "outputs": [
    {
     "data": {
      "text/plain": [
       "<seaborn.axisgrid.FacetGrid at 0x14ab348e0>"
      ]
     },
     "execution_count": 22,
     "metadata": {},
     "output_type": "execute_result"
    },
    {
     "data": {
      "image/png": "[encoded data removed]",
      "text/plain": [
       "<Figure size 511.111x500 with 1 Axes>"
      ]
     },
     "metadata": {},
     "output_type": "display_data"
    }
   ],
   "source": [
    "sb.catplot(x='condition', y='price', data=df_sample)"
   ]
  },
  {
   "cell_type": "code",
   "execution_count": 24,
   "metadata": {},
   "outputs": [
    {
     "data": {
      "text/html": [
       "<div>\n",
       "<style scoped>\n",
       "    .dataframe tbody tr th:only-of-type {\n",
       "        vertical-align: middle;\n",
       "    }\n",
       "\n",
       "    .dataframe tbody tr th {\n",
       "        vertical-align: top;\n",
       "    }\n",
       "\n",
       "    .dataframe thead th {\n",
       "        text-align: right;\n",
       "    }\n",
       "</style>\n",
       "<table border=\"1\" class=\"dataframe\">\n",
       "  <thead>\n",
       "    <tr style=\"text-align: right;\">\n",
       "      <th></th>\n",
       "      <th>price</th>\n",
       "      <th>odometer</th>\n",
       "      <th>year</th>\n",
       "    </tr>\n",
       "  </thead>\n",
       "  <tbody>\n",
       "    <tr>\n",
       "      <th>price</th>\n",
       "      <td>1.000000</td>\n",
       "      <td>-0.168473</td>\n",
       "      <td>0.250205</td>\n",
       "    </tr>\n",
       "    <tr>\n",
       "      <th>odometer</th>\n",
       "      <td>-0.168473</td>\n",
       "      <td>1.000000</td>\n",
       "      <td>-0.147275</td>\n",
       "    </tr>\n",
       "    <tr>\n",
       "      <th>year</th>\n",
       "      <td>0.250205</td>\n",
       "      <td>-0.147275</td>\n",
       "      <td>1.000000</td>\n",
       "    </tr>\n",
       "  </tbody>\n",
       "</table>\n",
       "</div>"
      ],
      "text/plain": [
       "             price  odometer      year\n",
       "price     1.000000 -0.168473  0.250205\n",
       "odometer -0.168473  1.000000 -0.147275\n",
       "year      0.250205 -0.147275  1.000000"
      ]
     },
     "execution_count": 24,
     "metadata": {},
     "output_type": "execute_result"
    }
   ],
   "source": [
    "# correlation\n",
    "\n",
    "df[['price', 'odometer', 'year']].corr()"
   ]
  },
  {
   "cell_type": "markdown",
   "metadata": {},
   "source": [
    "Sklearn linear regression will output real numbered values, so we will convert price to a real number. "
   ]
  },
  {
   "cell_type": "code",
   "execution_count": 39,
   "metadata": {},
   "outputs": [
    {
     "data": {
      "text/html": [
       "<div>\n",
       "<style scoped>\n",
       "    .dataframe tbody tr th:only-of-type {\n",
       "        vertical-align: middle;\n",
       "    }\n",
       "\n",
       "    .dataframe tbody tr th {\n",
       "        vertical-align: top;\n",
       "    }\n",
       "\n",
       "    .dataframe thead th {\n",
       "        text-align: right;\n",
       "    }\n",
       "</style>\n",
       "<table border=\"1\" class=\"dataframe\">\n",
       "  <thead>\n",
       "    <tr style=\"text-align: right;\">\n",
       "      <th></th>\n",
       "      <th>price</th>\n",
       "      <th>year</th>\n",
       "      <th>manufacturer</th>\n",
       "      <th>model</th>\n",
       "      <th>condition</th>\n",
       "      <th>cylinders</th>\n",
       "      <th>fuel</th>\n",
       "      <th>odometer</th>\n",
       "      <th>transmission</th>\n",
       "      <th>type</th>\n",
       "      <th>paint_color</th>\n",
       "      <th>state</th>\n",
       "    </tr>\n",
       "  </thead>\n",
       "  <tbody>\n",
       "    <tr>\n",
       "      <th>0</th>\n",
       "      <td>22590.0</td>\n",
       "      <td>2010</td>\n",
       "      <td>5</td>\n",
       "      <td>silverado 1500</td>\n",
       "      <td>2</td>\n",
       "      <td>6</td>\n",
       "      <td>gas</td>\n",
       "      <td>71229</td>\n",
       "      <td>other</td>\n",
       "      <td>pickup</td>\n",
       "      <td>blue</td>\n",
       "      <td>al</td>\n",
       "    </tr>\n",
       "    <tr>\n",
       "      <th>1</th>\n",
       "      <td>15000.0</td>\n",
       "      <td>2013</td>\n",
       "      <td>8</td>\n",
       "      <td>f-150 xlt</td>\n",
       "      <td>0</td>\n",
       "      <td>5</td>\n",
       "      <td>gas</td>\n",
       "      <td>128000</td>\n",
       "      <td>automatic</td>\n",
       "      <td>truck</td>\n",
       "      <td>black</td>\n",
       "      <td>al</td>\n",
       "    </tr>\n",
       "    <tr>\n",
       "      <th>2</th>\n",
       "      <td>24590.0</td>\n",
       "      <td>2017</td>\n",
       "      <td>5</td>\n",
       "      <td>silverado 1500 regular</td>\n",
       "      <td>2</td>\n",
       "      <td>5</td>\n",
       "      <td>gas</td>\n",
       "      <td>40784</td>\n",
       "      <td>other</td>\n",
       "      <td>pickup</td>\n",
       "      <td>white</td>\n",
       "      <td>al</td>\n",
       "    </tr>\n",
       "    <tr>\n",
       "      <th>3</th>\n",
       "      <td>22590.0</td>\n",
       "      <td>2017</td>\n",
       "      <td>20</td>\n",
       "      <td>1500 regular cab tradesman</td>\n",
       "      <td>2</td>\n",
       "      <td>6</td>\n",
       "      <td>gas</td>\n",
       "      <td>39508</td>\n",
       "      <td>other</td>\n",
       "      <td>pickup</td>\n",
       "      <td>white</td>\n",
       "      <td>al</td>\n",
       "    </tr>\n",
       "    <tr>\n",
       "      <th>4</th>\n",
       "      <td>19900.0</td>\n",
       "      <td>2004</td>\n",
       "      <td>8</td>\n",
       "      <td>f250 super duty</td>\n",
       "      <td>2</td>\n",
       "      <td>6</td>\n",
       "      <td>diesel</td>\n",
       "      <td>88000</td>\n",
       "      <td>automatic</td>\n",
       "      <td>pickup</td>\n",
       "      <td>blue</td>\n",
       "      <td>al</td>\n",
       "    </tr>\n",
       "  </tbody>\n",
       "</table>\n",
       "</div>"
      ],
      "text/plain": [
       "     price  year  manufacturer                       model  condition  \\\n",
       "0  22590.0  2010             5              silverado 1500          2   \n",
       "1  15000.0  2013             8                   f-150 xlt          0   \n",
       "2  24590.0  2017             5      silverado 1500 regular          2   \n",
       "3  22590.0  2017            20  1500 regular cab tradesman          2   \n",
       "4  19900.0  2004             8             f250 super duty          2   \n",
       "\n",
       "   cylinders    fuel  odometer transmission    type paint_color state  \n",
       "0          6     gas     71229        other  pickup        blue    al  \n",
       "1          5     gas    128000    automatic   truck       black    al  \n",
       "2          5     gas     40784        other  pickup       white    al  \n",
       "3          6     gas     39508        other  pickup       white    al  \n",
       "4          6  diesel     88000    automatic  pickup        blue    al  "
      ]
     },
     "execution_count": 39,
     "metadata": {},
     "output_type": "execute_result"
    }
   ],
   "source": [
    "df.price = df.price.astype('float')\n",
    "df.head()"
   ]
  },
  {
   "cell_type": "markdown",
   "metadata": {},
   "source": [
    "### Save the data\n",
    "\n",
    "Next we write the smaller data to disk in order to be able to use it in other notebooks. \n",
    "\n",
    "We use option *index=False* so that it does not interpret the first column as an index. "
   ]
  },
  {
   "cell_type": "code",
   "execution_count": 40,
   "metadata": {},
   "outputs": [
    {
     "data": {
      "text/html": [
       "<div>\n",
       "<style scoped>\n",
       "    .dataframe tbody tr th:only-of-type {\n",
       "        vertical-align: middle;\n",
       "    }\n",
       "\n",
       "    .dataframe tbody tr th {\n",
       "        vertical-align: top;\n",
       "    }\n",
       "\n",
       "    .dataframe thead th {\n",
       "        text-align: right;\n",
       "    }\n",
       "</style>\n",
       "<table border=\"1\" class=\"dataframe\">\n",
       "  <thead>\n",
       "    <tr style=\"text-align: right;\">\n",
       "      <th></th>\n",
       "      <th>price</th>\n",
       "      <th>year</th>\n",
       "      <th>manufacturer</th>\n",
       "      <th>model</th>\n",
       "      <th>condition</th>\n",
       "      <th>cylinders</th>\n",
       "      <th>fuel</th>\n",
       "      <th>odometer</th>\n",
       "      <th>transmission</th>\n",
       "      <th>type</th>\n",
       "      <th>paint_color</th>\n",
       "      <th>state</th>\n",
       "    </tr>\n",
       "  </thead>\n",
       "  <tbody>\n",
       "    <tr>\n",
       "      <th>0</th>\n",
       "      <td>22590.0</td>\n",
       "      <td>2010</td>\n",
       "      <td>5</td>\n",
       "      <td>silverado 1500</td>\n",
       "      <td>2</td>\n",
       "      <td>6</td>\n",
       "      <td>gas</td>\n",
       "      <td>71229</td>\n",
       "      <td>other</td>\n",
       "      <td>pickup</td>\n",
       "      <td>blue</td>\n",
       "      <td>al</td>\n",
       "    </tr>\n",
       "    <tr>\n",
       "      <th>1</th>\n",
       "      <td>15000.0</td>\n",
       "      <td>2013</td>\n",
       "      <td>8</td>\n",
       "      <td>f-150 xlt</td>\n",
       "      <td>0</td>\n",
       "      <td>5</td>\n",
       "      <td>gas</td>\n",
       "      <td>128000</td>\n",
       "      <td>automatic</td>\n",
       "      <td>truck</td>\n",
       "      <td>black</td>\n",
       "      <td>al</td>\n",
       "    </tr>\n",
       "    <tr>\n",
       "      <th>2</th>\n",
       "      <td>24590.0</td>\n",
       "      <td>2017</td>\n",
       "      <td>5</td>\n",
       "      <td>silverado 1500 regular</td>\n",
       "      <td>2</td>\n",
       "      <td>5</td>\n",
       "      <td>gas</td>\n",
       "      <td>40784</td>\n",
       "      <td>other</td>\n",
       "      <td>pickup</td>\n",
       "      <td>white</td>\n",
       "      <td>al</td>\n",
       "    </tr>\n",
       "    <tr>\n",
       "      <th>3</th>\n",
       "      <td>22590.0</td>\n",
       "      <td>2017</td>\n",
       "      <td>20</td>\n",
       "      <td>1500 regular cab tradesman</td>\n",
       "      <td>2</td>\n",
       "      <td>6</td>\n",
       "      <td>gas</td>\n",
       "      <td>39508</td>\n",
       "      <td>other</td>\n",
       "      <td>pickup</td>\n",
       "      <td>white</td>\n",
       "      <td>al</td>\n",
       "    </tr>\n",
       "    <tr>\n",
       "      <th>4</th>\n",
       "      <td>19900.0</td>\n",
       "      <td>2004</td>\n",
       "      <td>8</td>\n",
       "      <td>f250 super duty</td>\n",
       "      <td>2</td>\n",
       "      <td>6</td>\n",
       "      <td>diesel</td>\n",
       "      <td>88000</td>\n",
       "      <td>automatic</td>\n",
       "      <td>pickup</td>\n",
       "      <td>blue</td>\n",
       "      <td>al</td>\n",
       "    </tr>\n",
       "  </tbody>\n",
       "</table>\n",
       "</div>"
      ],
      "text/plain": [
       "     price  year  manufacturer                       model  condition  \\\n",
       "0  22590.0  2010             5              silverado 1500          2   \n",
       "1  15000.0  2013             8                   f-150 xlt          0   \n",
       "2  24590.0  2017             5      silverado 1500 regular          2   \n",
       "3  22590.0  2017            20  1500 regular cab tradesman          2   \n",
       "4  19900.0  2004             8             f250 super duty          2   \n",
       "\n",
       "   cylinders    fuel  odometer transmission    type paint_color state  \n",
       "0          6     gas     71229        other  pickup        blue    al  \n",
       "1          5     gas    128000    automatic   truck       black    al  \n",
       "2          5     gas     40784        other  pickup       white    al  \n",
       "3          6     gas     39508        other  pickup       white    al  \n",
       "4          6  diesel     88000    automatic  pickup        blue    al  "
      ]
     },
     "execution_count": 40,
     "metadata": {},
     "output_type": "execute_result"
    }
   ],
   "source": [
    "# save the data\n",
    "df.to_csv('data/vehicles_small.csv', index=False)\n",
    "\n",
    "# check if saved correctly\n",
    "df = pd.read_csv('data/vehicles_small.csv')\n",
    "\n",
    "df.head()"
   ]
  },
  {
   "cell_type": "markdown",
   "metadata": {},
   "source": [
    "### Make all data numeric for regression\n",
    "\n",
    "We plan to use manufacturer, condition and cylinders in the next notebook, so we convert them to categorial data. "
   ]
  },
  {
   "cell_type": "code",
   "execution_count": 44,
   "metadata": {},
   "outputs": [
    {
     "data": {
      "text/html": [
       "<div>\n",
       "<style scoped>\n",
       "    .dataframe tbody tr th:only-of-type {\n",
       "        vertical-align: middle;\n",
       "    }\n",
       "\n",
       "    .dataframe tbody tr th {\n",
       "        vertical-align: top;\n",
       "    }\n",
       "\n",
       "    .dataframe thead th {\n",
       "        text-align: right;\n",
       "    }\n",
       "</style>\n",
       "<table border=\"1\" class=\"dataframe\">\n",
       "  <thead>\n",
       "    <tr style=\"text-align: right;\">\n",
       "      <th></th>\n",
       "      <th>price</th>\n",
       "      <th>year</th>\n",
       "      <th>manufacturer</th>\n",
       "      <th>model</th>\n",
       "      <th>condition</th>\n",
       "      <th>cylinders</th>\n",
       "      <th>fuel</th>\n",
       "      <th>odometer</th>\n",
       "      <th>transmission</th>\n",
       "      <th>type</th>\n",
       "      <th>paint_color</th>\n",
       "      <th>state</th>\n",
       "    </tr>\n",
       "  </thead>\n",
       "  <tbody>\n",
       "    <tr>\n",
       "      <th>0</th>\n",
       "      <td>22590.0</td>\n",
       "      <td>2010</td>\n",
       "      <td>5</td>\n",
       "      <td>silverado 1500</td>\n",
       "      <td>2</td>\n",
       "      <td>6</td>\n",
       "      <td>gas</td>\n",
       "      <td>71229</td>\n",
       "      <td>other</td>\n",
       "      <td>1</td>\n",
       "      <td>blue</td>\n",
       "      <td>al</td>\n",
       "    </tr>\n",
       "    <tr>\n",
       "      <th>1</th>\n",
       "      <td>15000.0</td>\n",
       "      <td>2013</td>\n",
       "      <td>8</td>\n",
       "      <td>f-150 xlt</td>\n",
       "      <td>0</td>\n",
       "      <td>5</td>\n",
       "      <td>gas</td>\n",
       "      <td>128000</td>\n",
       "      <td>automatic</td>\n",
       "      <td>3</td>\n",
       "      <td>black</td>\n",
       "      <td>al</td>\n",
       "    </tr>\n",
       "    <tr>\n",
       "      <th>2</th>\n",
       "      <td>24590.0</td>\n",
       "      <td>2017</td>\n",
       "      <td>5</td>\n",
       "      <td>silverado 1500 regular</td>\n",
       "      <td>2</td>\n",
       "      <td>5</td>\n",
       "      <td>gas</td>\n",
       "      <td>40784</td>\n",
       "      <td>other</td>\n",
       "      <td>1</td>\n",
       "      <td>white</td>\n",
       "      <td>al</td>\n",
       "    </tr>\n",
       "    <tr>\n",
       "      <th>3</th>\n",
       "      <td>22590.0</td>\n",
       "      <td>2017</td>\n",
       "      <td>20</td>\n",
       "      <td>1500 regular cab tradesman</td>\n",
       "      <td>2</td>\n",
       "      <td>6</td>\n",
       "      <td>gas</td>\n",
       "      <td>39508</td>\n",
       "      <td>other</td>\n",
       "      <td>1</td>\n",
       "      <td>white</td>\n",
       "      <td>al</td>\n",
       "    </tr>\n",
       "    <tr>\n",
       "      <th>4</th>\n",
       "      <td>19900.0</td>\n",
       "      <td>2004</td>\n",
       "      <td>8</td>\n",
       "      <td>f250 super duty</td>\n",
       "      <td>2</td>\n",
       "      <td>6</td>\n",
       "      <td>diesel</td>\n",
       "      <td>88000</td>\n",
       "      <td>automatic</td>\n",
       "      <td>1</td>\n",
       "      <td>blue</td>\n",
       "      <td>al</td>\n",
       "    </tr>\n",
       "  </tbody>\n",
       "</table>\n",
       "</div>"
      ],
      "text/plain": [
       "     price  year  manufacturer                       model  condition  \\\n",
       "0  22590.0  2010             5              silverado 1500          2   \n",
       "1  15000.0  2013             8                   f-150 xlt          0   \n",
       "2  24590.0  2017             5      silverado 1500 regular          2   \n",
       "3  22590.0  2017            20  1500 regular cab tradesman          2   \n",
       "4  19900.0  2004             8             f250 super duty          2   \n",
       "\n",
       "   cylinders    fuel  odometer transmission  type paint_color state  \n",
       "0          6     gas     71229        other     1        blue    al  \n",
       "1          5     gas    128000    automatic     3       black    al  \n",
       "2          5     gas     40784        other     1       white    al  \n",
       "3          6     gas     39508        other     1       white    al  \n",
       "4          6  diesel     88000    automatic     1        blue    al  "
      ]
     },
     "execution_count": 44,
     "metadata": {},
     "output_type": "execute_result"
    }
   ],
   "source": [
    "# convert categorical columns to numeric representation\n",
    "\n",
    "cat_cols = ['manufacturer', 'condition', 'cylinders', 'type']\n",
    "for col in cat_cols:\n",
    "    df[col]= df[col].astype('category').cat.codes\n",
    "df.head()"
   ]
  },
  {
   "cell_type": "markdown",
   "metadata": {},
   "source": [
    "### Pickle\n",
    "\n",
    "Pickling the data will let us read the data frame back in."
   ]
  },
  {
   "cell_type": "code",
   "execution_count": 46,
   "metadata": {},
   "outputs": [
    {
     "data": {
      "text/plain": [
       "price           float64\n",
       "year              int64\n",
       "manufacturer       int8\n",
       "model            object\n",
       "condition          int8\n",
       "cylinders          int8\n",
       "fuel             object\n",
       "odometer          int64\n",
       "transmission     object\n",
       "type               int8\n",
       "paint_color      object\n",
       "state            object\n",
       "dtype: object"
      ]
     },
     "execution_count": 46,
     "metadata": {},
     "output_type": "execute_result"
    }
   ],
   "source": [
    "df.dtypes"
   ]
  },
  {
   "cell_type": "code",
   "execution_count": 47,
   "metadata": {},
   "outputs": [],
   "source": [
    "# pickle df\n",
    "\n",
    "# save the pickle file\n",
    "#pickle.dump(df, open('data/vehicles_small.p', 'wb'))  # write binary\n",
    "df.to_pickle('data/vehicles_small.p')"
   ]
  }
 ],
 "metadata": {
  "kernelspec": {
   "display_name": "Python 3",
   "language": "python",
   "name": "python3"
  },
  "language_info": {
   "codemirror_mode": {
    "name": "ipython",
    "version": 3
   },
   "file_extension": ".py",
   "mimetype": "text/x-python",
   "name": "python",
   "nbconvert_exporter": "python",
   "pygments_lexer": "ipython3",
   "version": "3.9.6"
  }
 },
 "nbformat": 4,
 "nbformat_minor": 4
}
