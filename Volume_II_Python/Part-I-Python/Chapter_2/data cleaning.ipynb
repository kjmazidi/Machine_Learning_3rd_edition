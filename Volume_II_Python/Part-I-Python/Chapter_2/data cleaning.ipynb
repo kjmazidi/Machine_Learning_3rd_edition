{
 "cells": [
  {
   "cell_type": "markdown",
   "metadata": {},
   "source": [
    "### Data cleaning in Python\n",
    "\n",
    "This notebook provides examples of:\n",
    "\n",
    "* reading csv files\n",
    "* removing columns\n",
    "* dealing with NAs\n",
    "* checking and changing data types\n",
    "* factor encoding and one-hot encoding\n",
    "\n"
   ]
  },
  {
   "cell_type": "code",
   "execution_count": 1,
   "metadata": {},
   "outputs": [
    {
     "name": "stdout",
     "output_type": "stream",
     "text": [
      "   row  pregnant  glucose  pressure  triceps  insulin  mass  pedigree  age  \\\n",
      "0    1         6    148.0      72.0     35.0      NaN  33.6     0.627   50   \n",
      "1    2         1     85.0      66.0     29.0      NaN  26.6     0.351   31   \n",
      "2    3         8    183.0      64.0      NaN      NaN  23.3     0.672   32   \n",
      "3    4         1     89.0      66.0     23.0     94.0  28.1     0.167   21   \n",
      "4    5         0    137.0      40.0     35.0    168.0  43.1     2.288   33   \n",
      "\n",
      "  diabetes  \n",
      "0      pos  \n",
      "1      neg  \n",
      "2      pos  \n",
      "3      neg  \n",
      "4      pos  \n",
      "\n",
      "Dimensions of data frame: (768, 10)\n"
     ]
    }
   ],
   "source": [
    "### load the data\n",
    "import pandas as pd\n",
    "\n",
    "df = pd.read_csv('diabetes.csv')\n",
    "print(df.head())\n",
    "print('\\nDimensions of data frame:', df.shape)"
   ]
  },
  {
   "cell_type": "code",
   "execution_count": 2,
   "metadata": {},
   "outputs": [
    {
     "name": "stdout",
     "output_type": "stream",
     "text": [
      "   pregnant  glucose  pressure  triceps  insulin  mass  age diabetes\n",
      "0         6    148.0      72.0     35.0      NaN  33.6   50      pos\n",
      "1         1     85.0      66.0     29.0      NaN  26.6   31      neg\n",
      "2         8    183.0      64.0      NaN      NaN  23.3   32      pos\n",
      "3         1     89.0      66.0     23.0     94.0  28.1   21      neg\n",
      "4         0    137.0      40.0     35.0    168.0  43.1   33      pos\n"
     ]
    }
   ],
   "source": [
    "# remove \"row\" and \"pedigree\" columns\n",
    "\n",
    "df = df.drop(columns=['row', 'pedigree'])\n",
    "print(df.head())"
   ]
  },
  {
   "cell_type": "code",
   "execution_count": 3,
   "metadata": {},
   "outputs": [
    {
     "data": {
      "text/plain": [
       "pregnant      0\n",
       "glucose       5\n",
       "pressure     35\n",
       "triceps     227\n",
       "insulin     374\n",
       "mass         11\n",
       "age           0\n",
       "diabetes      0\n",
       "dtype: int64"
      ]
     },
     "execution_count": 3,
     "metadata": {},
     "output_type": "execute_result"
    }
   ],
   "source": [
    "# check for NAs\n",
    "\n",
    "df.isnull().sum()"
   ]
  },
  {
   "cell_type": "code",
   "execution_count": 4,
   "metadata": {},
   "outputs": [
    {
     "data": {
      "text/plain": [
       "pregnant     0\n",
       "glucose      5\n",
       "pressure    35\n",
       "triceps      0\n",
       "insulin      0\n",
       "mass        11\n",
       "age          0\n",
       "diabetes     0\n",
       "dtype: int64"
      ]
     },
     "execution_count": 4,
     "metadata": {},
     "output_type": "execute_result"
    }
   ],
   "source": [
    "# fill triceps and insulin with average\n",
    "import numpy as np\n",
    "\n",
    "tri_mean = np.mean(df.triceps)\n",
    "df.triceps.fillna(tri_mean, inplace=True)\n",
    "\n",
    "insulin_mean = np.mean(df.insulin)\n",
    "df.insulin.fillna(insulin_mean, inplace=True)\n",
    "\n",
    "df.isnull().sum()"
   ]
  },
  {
   "cell_type": "code",
   "execution_count": 5,
   "metadata": {},
   "outputs": [
    {
     "name": "stdout",
     "output_type": "stream",
     "text": [
      "\n",
      "Dimensions of data frame: (724, 8)\n"
     ]
    }
   ],
   "source": [
    "# drop remaining rows with NAs\n",
    "\n",
    "df = df.dropna()\n",
    "print('\\nDimensions of data frame:', df.shape)"
   ]
  },
  {
   "cell_type": "code",
   "execution_count": 6,
   "metadata": {},
   "outputs": [
    {
     "data": {
      "text/plain": [
       "pregnant      int64\n",
       "glucose     float64\n",
       "pressure    float64\n",
       "triceps     float64\n",
       "insulin     float64\n",
       "mass        float64\n",
       "age           int64\n",
       "diabetes     object\n",
       "dtype: object"
      ]
     },
     "execution_count": 6,
     "metadata": {},
     "output_type": "execute_result"
    }
   ],
   "source": [
    "# check data types\n",
    "\n",
    "df.dtypes"
   ]
  },
  {
   "cell_type": "code",
   "execution_count": 5,
   "metadata": {},
   "outputs": [
    {
     "name": "stdout",
     "output_type": "stream",
     "text": [
      "pregnant       int64\n",
      "glucose      float64\n",
      "pressure     float64\n",
      "triceps      float64\n",
      "insulin      float64\n",
      "mass         float64\n",
      "age            int64\n",
      "diabetes    category\n",
      "dtype: object \n",
      "\n",
      "   pregnant  glucose  pressure   triceps     insulin  mass  age diabetes\n",
      "0         6    148.0      72.0  35.00000  155.548223  33.6   50      pos\n",
      "1         1     85.0      66.0  29.00000  155.548223  26.6   31      neg\n",
      "2         8    183.0      64.0  29.15342  155.548223  23.3   32      pos\n",
      "3         1     89.0      66.0  23.00000   94.000000  28.1   21      neg\n",
      "4         0    137.0      40.0  35.00000  168.000000  43.1   33      pos\n"
     ]
    }
   ],
   "source": [
    "# convert diabetes to categorical data type\n",
    "\n",
    "df1 = df.copy()\n",
    "\n",
    "df1.diabetes = df1.diabetes.astype('category')\n",
    "\n",
    "print(df1.dtypes, \"\\n\")\n",
    "print(df1.head())     "
   ]
  },
  {
   "cell_type": "code",
   "execution_count": 6,
   "metadata": {},
   "outputs": [
    {
     "name": "stdout",
     "output_type": "stream",
     "text": [
      "pregnant      int64\n",
      "glucose     float64\n",
      "pressure    float64\n",
      "triceps     float64\n",
      "insulin     float64\n",
      "mass        float64\n",
      "age           int64\n",
      "diabetes       int8\n",
      "dtype: object \n",
      "\n",
      "   pregnant  glucose  pressure   triceps     insulin  mass  age  diabetes\n",
      "0         6    148.0      72.0  35.00000  155.548223  33.6   50         1\n",
      "1         1     85.0      66.0  29.00000  155.548223  26.6   31         0\n",
      "2         8    183.0      64.0  29.15342  155.548223  23.3   32         1\n",
      "3         1     89.0      66.0  23.00000   94.000000  28.1   21         0\n",
      "4         0    137.0      40.0  35.00000  168.000000  43.1   33         1\n"
     ]
    }
   ],
   "source": [
    "# convert diabetes to categorical data type with numeric factor codes\n",
    "\n",
    "df2 = df.copy()\n",
    "\n",
    "df2.diabetes = df1.diabetes.astype('category').cat.codes\n",
    "\n",
    "print(df2.dtypes, \"\\n\")\n",
    "print(df2.head())  "
   ]
  },
  {
   "cell_type": "markdown",
   "metadata": {},
   "source": [
    "The diabetes data is ready to go. "
   ]
  },
  {
   "cell_type": "markdown",
   "metadata": {},
   "source": [
    "Two ways of encoding categorical data were shown above. The sklearn algorithms handle either type, but the numeric encoding is more commonly used.\n",
    "\n",
    "### One-hot encoding\n",
    "\n",
    "Some algorithms can also accept one-hot encoding. As an example of one-hot encoding, we will use a subset of the diabetes data and the number of pregnancies column."
   ]
  },
  {
   "cell_type": "code",
   "execution_count": 9,
   "metadata": {},
   "outputs": [
    {
     "name": "stdout",
     "output_type": "stream",
     "text": [
      "(463, 8)\n"
     ]
    }
   ],
   "source": [
    "df3 = df.copy()\n",
    "\n",
    "df3 = df3[df3.pregnant < 5]\n",
    "print(df3.shape)"
   ]
  },
  {
   "cell_type": "code",
   "execution_count": 10,
   "metadata": {},
   "outputs": [
    {
     "name": "stdout",
     "output_type": "stream",
     "text": [
      "   pregnant  glucose  pressure  triceps     insulin  mass  age diabetes\n",
      "1         1     85.0      66.0     29.0  155.548223  26.6   31      neg\n",
      "3         1     89.0      66.0     23.0   94.000000  28.1   21      neg\n",
      "4         0    137.0      40.0     35.0  168.000000  43.1   33      pos\n",
      "6         3     78.0      50.0     32.0   88.000000  31.0   26      pos\n",
      "8         2    197.0      70.0     45.0  543.000000  30.5   53      pos\n"
     ]
    }
   ],
   "source": [
    "print(df3.head())"
   ]
  },
  {
   "cell_type": "code",
   "execution_count": 11,
   "metadata": {},
   "outputs": [
    {
     "name": "stdout",
     "output_type": "stream",
     "text": [
      "   0  1  2  3  4\n",
      "1  0  1  0  0  0\n",
      "3  0  1  0  0  0\n",
      "4  1  0  0  0  0\n",
      "6  0  0  0  1  0\n",
      "8  0  0  1  0  0\n"
     ]
    }
   ],
   "source": [
    "ohe = pd.get_dummies(df3.pregnant)\n",
    "print(ohe[:5])"
   ]
  },
  {
   "cell_type": "markdown",
   "metadata": {},
   "source": [
    "The ohe (one-hot-encoded) data above has one column for each possible value 0 - 4. Each row will have only one \"1\" for each row, with the rest 0.\n",
    "\n",
    "Now we need to concatenate this with the other columns. The example uses a subset of the columns"
   ]
  },
  {
   "cell_type": "code",
   "execution_count": 12,
   "metadata": {},
   "outputs": [
    {
     "data": {
      "text/html": [
       "<div>\n",
       "<style scoped>\n",
       "    .dataframe tbody tr th:only-of-type {\n",
       "        vertical-align: middle;\n",
       "    }\n",
       "\n",
       "    .dataframe tbody tr th {\n",
       "        vertical-align: top;\n",
       "    }\n",
       "\n",
       "    .dataframe thead th {\n",
       "        text-align: right;\n",
       "    }\n",
       "</style>\n",
       "<table border=\"1\" class=\"dataframe\">\n",
       "  <thead>\n",
       "    <tr style=\"text-align: right;\">\n",
       "      <th></th>\n",
       "      <th>0</th>\n",
       "      <th>1</th>\n",
       "      <th>2</th>\n",
       "      <th>3</th>\n",
       "      <th>4</th>\n",
       "      <th>glucose</th>\n",
       "      <th>pressure</th>\n",
       "      <th>triceps</th>\n",
       "      <th>insulin</th>\n",
       "      <th>mass</th>\n",
       "      <th>age</th>\n",
       "      <th>diabetes</th>\n",
       "    </tr>\n",
       "  </thead>\n",
       "  <tbody>\n",
       "    <tr>\n",
       "      <th>1</th>\n",
       "      <td>0</td>\n",
       "      <td>1</td>\n",
       "      <td>0</td>\n",
       "      <td>0</td>\n",
       "      <td>0</td>\n",
       "      <td>85.0</td>\n",
       "      <td>66.0</td>\n",
       "      <td>29.0</td>\n",
       "      <td>155.548223</td>\n",
       "      <td>26.6</td>\n",
       "      <td>31</td>\n",
       "      <td>neg</td>\n",
       "    </tr>\n",
       "    <tr>\n",
       "      <th>3</th>\n",
       "      <td>0</td>\n",
       "      <td>1</td>\n",
       "      <td>0</td>\n",
       "      <td>0</td>\n",
       "      <td>0</td>\n",
       "      <td>89.0</td>\n",
       "      <td>66.0</td>\n",
       "      <td>23.0</td>\n",
       "      <td>94.000000</td>\n",
       "      <td>28.1</td>\n",
       "      <td>21</td>\n",
       "      <td>neg</td>\n",
       "    </tr>\n",
       "    <tr>\n",
       "      <th>4</th>\n",
       "      <td>1</td>\n",
       "      <td>0</td>\n",
       "      <td>0</td>\n",
       "      <td>0</td>\n",
       "      <td>0</td>\n",
       "      <td>137.0</td>\n",
       "      <td>40.0</td>\n",
       "      <td>35.0</td>\n",
       "      <td>168.000000</td>\n",
       "      <td>43.1</td>\n",
       "      <td>33</td>\n",
       "      <td>pos</td>\n",
       "    </tr>\n",
       "    <tr>\n",
       "      <th>6</th>\n",
       "      <td>0</td>\n",
       "      <td>0</td>\n",
       "      <td>0</td>\n",
       "      <td>1</td>\n",
       "      <td>0</td>\n",
       "      <td>78.0</td>\n",
       "      <td>50.0</td>\n",
       "      <td>32.0</td>\n",
       "      <td>88.000000</td>\n",
       "      <td>31.0</td>\n",
       "      <td>26</td>\n",
       "      <td>pos</td>\n",
       "    </tr>\n",
       "    <tr>\n",
       "      <th>8</th>\n",
       "      <td>0</td>\n",
       "      <td>0</td>\n",
       "      <td>1</td>\n",
       "      <td>0</td>\n",
       "      <td>0</td>\n",
       "      <td>197.0</td>\n",
       "      <td>70.0</td>\n",
       "      <td>45.0</td>\n",
       "      <td>543.000000</td>\n",
       "      <td>30.5</td>\n",
       "      <td>53</td>\n",
       "      <td>pos</td>\n",
       "    </tr>\n",
       "  </tbody>\n",
       "</table>\n",
       "</div>"
      ],
      "text/plain": [
       "   0  1  2  3  4  glucose  pressure  triceps     insulin  mass  age diabetes\n",
       "1  0  1  0  0  0     85.0      66.0     29.0  155.548223  26.6   31      neg\n",
       "3  0  1  0  0  0     89.0      66.0     23.0   94.000000  28.1   21      neg\n",
       "4  1  0  0  0  0    137.0      40.0     35.0  168.000000  43.1   33      pos\n",
       "6  0  0  0  1  0     78.0      50.0     32.0   88.000000  31.0   26      pos\n",
       "8  0  0  1  0  0    197.0      70.0     45.0  543.000000  30.5   53      pos"
      ]
     },
     "execution_count": 12,
     "metadata": {},
     "output_type": "execute_result"
    }
   ],
   "source": [
    "df_ohe = pd.concat([ohe, df3.loc[:, df3.columns != 'pregnant']], axis=1)\n",
    "df_ohe.head()"
   ]
  },
  {
   "cell_type": "markdown",
   "metadata": {},
   "source": [
    "### Data investigation\n",
    "\n",
    "In seeking to improve a model, consider if there could be undetected errors in the data. The following two code blocks show finding the min and max for each column. Most of the ranges seem reasonable. The triceps range of 7 to 99 seems unusual. The third code block below shows the 10 rows with the lowest triceps values. Looking at the first two rows, there doesn't seem to be a strong relationship of triceps to the mass of a person. Finally, a boxplot shows several suspected outliers at the low and high ends of the triceps data. Further investigation into how the data was collected might reveal whether these are likely human errors in measurement."
   ]
  },
  {
   "cell_type": "code",
   "execution_count": 7,
   "metadata": {},
   "outputs": [
    {
     "data": {
      "text/plain": [
       "pregnant       0\n",
       "glucose       44\n",
       "pressure      24\n",
       "triceps        7\n",
       "insulin       14\n",
       "mass        18.2\n",
       "age           21\n",
       "diabetes     neg\n",
       "dtype: object"
      ]
     },
     "execution_count": 7,
     "metadata": {},
     "output_type": "execute_result"
    }
   ],
   "source": [
    "df.min()\n"
   ]
  },
  {
   "cell_type": "code",
   "execution_count": 8,
   "metadata": {},
   "outputs": [
    {
     "data": {
      "text/plain": [
       "pregnant      17\n",
       "glucose      199\n",
       "pressure     122\n",
       "triceps       99\n",
       "insulin      846\n",
       "mass        67.1\n",
       "age           81\n",
       "diabetes     pos\n",
       "dtype: object"
      ]
     },
     "execution_count": 8,
     "metadata": {},
     "output_type": "execute_result"
    }
   ],
   "source": [
    "df.max()"
   ]
  },
  {
   "cell_type": "code",
   "execution_count": 15,
   "metadata": {},
   "outputs": [
    {
     "data": {
      "text/html": [
       "<div>\n",
       "<style scoped>\n",
       "    .dataframe tbody tr th:only-of-type {\n",
       "        vertical-align: middle;\n",
       "    }\n",
       "\n",
       "    .dataframe tbody tr th {\n",
       "        vertical-align: top;\n",
       "    }\n",
       "\n",
       "    .dataframe thead th {\n",
       "        text-align: right;\n",
       "    }\n",
       "</style>\n",
       "<table border=\"1\" class=\"dataframe\">\n",
       "  <thead>\n",
       "    <tr style=\"text-align: right;\">\n",
       "      <th></th>\n",
       "      <th>pregnant</th>\n",
       "      <th>glucose</th>\n",
       "      <th>pressure</th>\n",
       "      <th>triceps</th>\n",
       "      <th>insulin</th>\n",
       "      <th>mass</th>\n",
       "      <th>age</th>\n",
       "      <th>diabetes</th>\n",
       "    </tr>\n",
       "  </thead>\n",
       "  <tbody>\n",
       "    <tr>\n",
       "      <th>519</th>\n",
       "      <td>6</td>\n",
       "      <td>129.0</td>\n",
       "      <td>90.0</td>\n",
       "      <td>7.0</td>\n",
       "      <td>326.000000</td>\n",
       "      <td>19.6</td>\n",
       "      <td>60</td>\n",
       "      <td>neg</td>\n",
       "    </tr>\n",
       "    <tr>\n",
       "      <th>254</th>\n",
       "      <td>12</td>\n",
       "      <td>92.0</td>\n",
       "      <td>62.0</td>\n",
       "      <td>7.0</td>\n",
       "      <td>258.000000</td>\n",
       "      <td>27.6</td>\n",
       "      <td>44</td>\n",
       "      <td>pos</td>\n",
       "    </tr>\n",
       "    <tr>\n",
       "      <th>382</th>\n",
       "      <td>1</td>\n",
       "      <td>109.0</td>\n",
       "      <td>60.0</td>\n",
       "      <td>8.0</td>\n",
       "      <td>182.000000</td>\n",
       "      <td>25.4</td>\n",
       "      <td>21</td>\n",
       "      <td>neg</td>\n",
       "    </tr>\n",
       "    <tr>\n",
       "      <th>434</th>\n",
       "      <td>1</td>\n",
       "      <td>90.0</td>\n",
       "      <td>68.0</td>\n",
       "      <td>8.0</td>\n",
       "      <td>155.548223</td>\n",
       "      <td>24.5</td>\n",
       "      <td>36</td>\n",
       "      <td>neg</td>\n",
       "    </tr>\n",
       "    <tr>\n",
       "      <th>313</th>\n",
       "      <td>3</td>\n",
       "      <td>113.0</td>\n",
       "      <td>50.0</td>\n",
       "      <td>10.0</td>\n",
       "      <td>85.000000</td>\n",
       "      <td>29.5</td>\n",
       "      <td>25</td>\n",
       "      <td>neg</td>\n",
       "    </tr>\n",
       "    <tr>\n",
       "      <th>671</th>\n",
       "      <td>1</td>\n",
       "      <td>99.0</td>\n",
       "      <td>58.0</td>\n",
       "      <td>10.0</td>\n",
       "      <td>155.548223</td>\n",
       "      <td>25.4</td>\n",
       "      <td>21</td>\n",
       "      <td>neg</td>\n",
       "    </tr>\n",
       "    <tr>\n",
       "      <th>279</th>\n",
       "      <td>2</td>\n",
       "      <td>108.0</td>\n",
       "      <td>62.0</td>\n",
       "      <td>10.0</td>\n",
       "      <td>278.000000</td>\n",
       "      <td>25.3</td>\n",
       "      <td>22</td>\n",
       "      <td>neg</td>\n",
       "    </tr>\n",
       "    <tr>\n",
       "      <th>55</th>\n",
       "      <td>1</td>\n",
       "      <td>73.0</td>\n",
       "      <td>50.0</td>\n",
       "      <td>10.0</td>\n",
       "      <td>155.548223</td>\n",
       "      <td>23.0</td>\n",
       "      <td>21</td>\n",
       "      <td>neg</td>\n",
       "    </tr>\n",
       "    <tr>\n",
       "      <th>466</th>\n",
       "      <td>0</td>\n",
       "      <td>74.0</td>\n",
       "      <td>52.0</td>\n",
       "      <td>10.0</td>\n",
       "      <td>36.000000</td>\n",
       "      <td>27.8</td>\n",
       "      <td>22</td>\n",
       "      <td>neg</td>\n",
       "    </tr>\n",
       "    <tr>\n",
       "      <th>50</th>\n",
       "      <td>1</td>\n",
       "      <td>103.0</td>\n",
       "      <td>80.0</td>\n",
       "      <td>11.0</td>\n",
       "      <td>82.000000</td>\n",
       "      <td>19.4</td>\n",
       "      <td>22</td>\n",
       "      <td>neg</td>\n",
       "    </tr>\n",
       "  </tbody>\n",
       "</table>\n",
       "</div>"
      ],
      "text/plain": [
       "     pregnant  glucose  pressure  triceps     insulin  mass  age diabetes\n",
       "519         6    129.0      90.0      7.0  326.000000  19.6   60      neg\n",
       "254        12     92.0      62.0      7.0  258.000000  27.6   44      pos\n",
       "382         1    109.0      60.0      8.0  182.000000  25.4   21      neg\n",
       "434         1     90.0      68.0      8.0  155.548223  24.5   36      neg\n",
       "313         3    113.0      50.0     10.0   85.000000  29.5   25      neg\n",
       "671         1     99.0      58.0     10.0  155.548223  25.4   21      neg\n",
       "279         2    108.0      62.0     10.0  278.000000  25.3   22      neg\n",
       "55          1     73.0      50.0     10.0  155.548223  23.0   21      neg\n",
       "466         0     74.0      52.0     10.0   36.000000  27.8   22      neg\n",
       "50          1    103.0      80.0     11.0   82.000000  19.4   22      neg"
      ]
     },
     "execution_count": 15,
     "metadata": {},
     "output_type": "execute_result"
    }
   ],
   "source": [
    "df.sort_values(by=['triceps']).head(10)"
   ]
  },
  {
   "cell_type": "code",
   "execution_count": 16,
   "metadata": {},
   "outputs": [
    {
     "data": {
      "text/plain": [
       "<matplotlib.axes._subplots.AxesSubplot at 0x1314377c0>"
      ]
     },
     "execution_count": 16,
     "metadata": {},
     "output_type": "execute_result"
    },
    {
     "data": {
      "image/png": "[encoded data removed]",
      "text/plain": [
       "<Figure size 432x288 with 1 Axes>"
      ]
     },
     "metadata": {
      "needs_background": "light"
     },
     "output_type": "display_data"
    }
   ],
   "source": [
    "import seaborn as sb\n",
    "\n",
    "sb.boxplot('diabetes', y='triceps', data=df)"
   ]
  },
  {
   "cell_type": "code",
   "execution_count": null,
   "metadata": {},
   "outputs": [],
   "source": []
  }
 ],
 "metadata": {
  "kernelspec": {
   "display_name": "Python 3",
   "language": "python",
   "name": "python3"
  },
  "language_info": {
   "codemirror_mode": {
    "name": "ipython",
    "version": 3
   },
   "file_extension": ".py",
   "mimetype": "text/x-python",
   "name": "python",
   "nbconvert_exporter": "python",
   "pygments_lexer": "ipython3",
   "version": "3.8.2"
  }
 },
 "nbformat": 4,
 "nbformat_minor": 4
}
